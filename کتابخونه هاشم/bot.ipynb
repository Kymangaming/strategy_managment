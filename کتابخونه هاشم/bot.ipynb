{
 "cells": [
  {
   "cell_type": "code",
   "execution_count": null,
   "metadata": {
    "metadata": {}
   },
   "outputs": [],
   "source": [
    "\n",
    "from module.hashem import *\n",
    "\n",
    "mt5.initialize()\n",
    "\n",
    "symbols = ['XAUUSD.']\n",
    "\n",
    "\n",
    "while True :\n",
    "\n",
    "    for i in symbols:\n",
    "        \n",
    "        symbol = f'{i}'\n",
    "\n",
    "        price = mt5.symbol_info_tick(symbol).ask\n",
    "\n",
    "        hashem1STG = True\n",
    "\n",
    "        positions = mt5.positions_get()\n",
    "\n",
    "        for position in positions:\n",
    "            \n",
    "            if (position._asdict()['comment'] == 'hashem 15m'):\n",
    "                hashem1STG = False\n",
    "\n",
    "        #محل قرار گیری استراتژی ها\n",
    "\n",
    "        kandels = kandel('15m' , 5 , symbol)\n",
    "\n",
    "        \n",
    "        #short position\n",
    "        if hashem1STG == True and average200('15m' , symbol) < average50('15m' , symbol) and  average50('15m' , symbol) < price and whatKandel('15m' , -2 , symbol) == 'long' and whatKandel('15m' , -4 , symbol) == 'long' and whatKandel('15m' , -3 , symbol) == 'long' and whatKandel('15m' , -1 , symbol) == 'short' and rsi('15m' , symbol) >= 70 and body('15m' , -1 , symbol) > body('15m' , -2 , symbol) :\n",
    "            sl = kandels[-1]['high'] \n",
    "            tp = price - (( sl - price ) * 2 )\n",
    "            create_order(symbol , 0.01 , sell , price , sl , tp , 'hashem 15m')\n",
    "\n",
    "\n",
    "        \n",
    "        #long position\n",
    "        if hashem1STG == True and average200('15m' , symbol) > average50('15m' , symbol) and  average50('15m' , symbol) > price and whatKandel('15m' , -2 , symbol) == 'short' and whatKandel('15m' , -4 , symbol) == 'short' and whatKandel('15m' , -3 , symbol) == 'short' and whatKandel('15m' , -1 , symbol) == 'long' and rsi('15m' , symbol) <= 30 and body('15m' , -1 , symbol) > body('15m' , -2 , symbol) :\n",
    "            sl = kandels[-1]['low'] \n",
    "            tp = price + (( price - sl ) * 2 )\n",
    "            create_order(symbol , 0.01 , buy , price , sl , tp , 'hashem 15m')\n",
    "\n",
    "\n",
    "    \n",
    "\n",
    "\n",
    "\n",
    "\n",
    "\n",
    "   \n"
   ]
  },
  {
   "cell_type": "code",
   "execution_count": 9,
   "metadata": {},
   "outputs": [
    {
     "name": "stdout",
     "output_type": "stream",
     "text": [
      "Trading strategy\n",
      "Trading strategy\n",
      "Trading strategy\n",
      "Trading strategy\n",
      "Trading strategy\n",
      "Trading strategy\n",
      "Trading strategy\n"
     ]
    }
   ],
   "source": [
    "\n",
    "from module.hashem import *\n",
    "\n",
    "mt5.initialize()\n"
   ]
  }
 ],
 "metadata": {
  "kernelspec": {
   "display_name": "Python 3",
   "language": "python",
   "name": "python3"
  },
  "language_info": {
   "codemirror_mode": {
    "name": "ipython",
    "version": 3
   },
   "file_extension": ".py",
   "mimetype": "text/x-python",
   "name": "python",
   "nbconvert_exporter": "python",
   "pygments_lexer": "ipython3",
   "version": "3.12.2"
  }
 },
 "nbformat": 4,
 "nbformat_minor": 2
}
